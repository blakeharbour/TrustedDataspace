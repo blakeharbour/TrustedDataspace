{
 "cells": [
  {
   "cell_type": "code",
   "execution_count": 2,
   "metadata": {},
   "outputs": [
    {
     "name": "stdout",
     "output_type": "stream",
     "text": [
      "17176 1031399\n"
     ]
    }
   ],
   "source": [
    "# 导入必要的库\n",
    "from __future__ import division, print_function\n",
    "import numpy as np\n",
    "import pandas as pd\n",
    "import matplotlib.pyplot as plt\n",
    "from sklearn.tree import DecisionTreeClassifier\n",
    "from sklearn.metrics import precision_recall_curve\n",
    "from sklearn.svm import SVC\n",
    "\n",
    "# 读取数据\n",
    "df = pd.read_csv('result_resolve.csv')\n",
    "\n",
    "# 设置标签和数据\n",
    "known_labels_ratio = 1\n",
    "label_1_data = df[df['ISPOTIENTIAL'] == 1].sample(frac=known_labels_ratio, random_state=42)\n",
    "label_minus_1_data = df[df['ISPOTIENTIAL'] == -1]\n",
    "\n",
    "data_P = label_1_data.drop(['ID', 'ISPOTIENTIAL','DATADATE','FZHZM','DZHZM'], axis=1).to_numpy()\n",
    "data_U = label_minus_1_data.drop(['ID', 'ISPOTIENTIAL','DATADATE','FZHZM','DZHZM'], axis=1).to_numpy()\n",
    "\n",
    "# 样本数量\n",
    "NP = data_P.shape[0]\n",
    "NU = data_U.shape[0]\n",
    "print(NP,NU)\n"
   ]
  },
  {
   "cell_type": "code",
   "execution_count": null,
   "metadata": {},
   "outputs": [],
   "source": [
    "# 迭代次数和每次采样数量\n",
    "T = 20\n",
    "K = NP\n",
    "\n",
    "# 初始化数组用于记录 out of bag (oob) 样本的数量和概率得分\n",
    "n_oob = np.zeros(shape=(NU,))\n",
    "f_oob = np.zeros(shape=(NU,))\n",
    "\n",
    "# 开始迭代\n",
    "for i in range(T):\n",
    "    print(f\"第{i}次迭代\")\n",
    "    # Bootstrap 采样\n",
    "    bootstrap_sample = np.random.choice(np.arange(NU), replace=True, size=K)\n",
    "    # Positive set + bootstrapped unlabeled set\n",
    "    data_bootstrap = np.concatenate((data_P, data_U[bootstrap_sample, :]), axis=0)\n",
    "\n",
    "    # 构建训练标签\n",
    "    train_label_bootstrap = np.zeros(shape=(K + NP,))\n",
    "    train_label_bootstrap[:NP] = 1.0\n",
    "\n",
    "    # 训练 SVM 模型\n",
    "    # 使用随机森林模型\n",
    "    model = SVC(probability=True, class_weight='balanced', gamma='auto')\n",
    "\n",
    "    model.fit(data_bootstrap, train_label_bootstrap)\n",
    "\n",
    "    # Index for the out of bag (oob) samples\n",
    "    idx_oob = sorted(set(range(NU)) - set(np.unique(bootstrap_sample)))\n",
    "\n",
    "    # Transductive learning of oob samples\n",
    "    f_oob[idx_oob] += model.predict_proba(data_U[idx_oob])[:, 1]\n",
    "    n_oob[idx_oob] += 1\n",
    "\n",
    "# 计算最终的概率得分\n",
    "predict_proba = f_oob / n_oob"
   ]
  },
  {
   "cell_type": "code",
   "execution_count": null,
   "metadata": {},
   "outputs": [],
   "source": [
    "# 绘制图形\n",
    "fig = plt.figure(figsize=(6, 4))\n",
    "ax1 = fig.add_subplot(1, 1, 1)\n",
    "sp = ax1.scatter(df.loc[df['ISPOTIENTIAL'] == -1, 'ID'], predict_proba,\n",
    "                linewidth=0, s=5, alpha=0.5, cmap=plt.cm.plasma, label='unlabeled')\n",
    "plt.grid()\n",
    "plt.colorbar(sp, label='Class probability on Unlabeled set')\n",
    "\n",
    "plt.show()"
   ]
  },
  {
   "cell_type": "code",
   "execution_count": null,
   "metadata": {},
   "outputs": [],
   "source": [
    "# 将所有字段及新增的 Predict_Proba 字段保存到新的 文件\n",
    "df['Predict_Proba'] = np.nan\n",
    "df.loc[df['ISPOTIENTIAL'] == 1, 'Predict_Proba'] = 1.0\n",
    "df.loc[df['ISPOTIENTIAL'] == -1, 'Predict_Proba'] = predict_proba"
   ]
  },
  {
   "cell_type": "code",
   "execution_count": null,
   "metadata": {},
   "outputs": [],
   "source": [
    "# 统计在0到1之间每隔0.1的区间内的数量\n",
    "predict_proba = df['Predict_Proba']\n",
    "hist, bin_edges = np.histogram(predict_proba, bins=np.arange(-0.1, 1.2, 0.1))\n",
    "\n",
    "# 计算等于0的数量\n",
    "count_below_threshold_zero = np.sum(predict_proba == 0)\n",
    "# 计算小于0.1的数量\n",
    "count_below_threshold_nonzero = np.sum((predict_proba < 0.1) & (predict_proba != 0))\n",
    "# 计算大于0.1的数量\n",
    "count_below_threshold_non = np.sum((predict_proba > 0.1))\n",
    "\n",
    "# 打印结果\n",
    "print(f\"等于0的数量：{count_below_threshold_zero}\")\n",
    "print(f\"小于0.1并且不等于0的数量：{count_below_threshold_nonzero}\")\n",
    "# 打印结果\n",
    "print(f\"大于0.1的数量：{count_below_threshold_non}\")\n",
    "# 打印每个区间的数量\n",
    "for i in range(len(hist)):\n",
    "    print(f\"区间 {bin_edges[i]:.1f} 到 {bin_edges[i+1]:.1f} 的数量：{hist[i]}\")\n"
   ]
  },
  {
   "cell_type": "code",
   "execution_count": null,
   "metadata": {},
   "outputs": [],
   "source": []
  },
  {
   "cell_type": "code",
   "execution_count": null,
   "metadata": {},
   "outputs": [],
   "source": []
  }
 ],
 "metadata": {
  "kernelspec": {
   "display_name": "Python 3",
   "language": "python",
   "name": "python3"
  },
  "language_info": {
   "codemirror_mode": {
    "name": "ipython",
    "version": 3
   },
   "file_extension": ".py",
   "mimetype": "text/x-python",
   "name": "python",
   "nbconvert_exporter": "python",
   "pygments_lexer": "ipython3",
   "version": "3.7.4"
  }
 },
 "nbformat": 4,
 "nbformat_minor": 2
}
