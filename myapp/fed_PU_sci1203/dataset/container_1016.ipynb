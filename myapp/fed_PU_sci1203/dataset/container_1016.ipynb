{
 "cells": [
  {
   "cell_type": "code",
   "execution_count": 1,
   "id": "7866302f",
   "metadata": {},
   "outputs": [],
   "source": [
    "import pandas as pd"
   ]
  },
  {
   "cell_type": "code",
   "execution_count": 2,
   "id": "9c430da3",
   "metadata": {},
   "outputs": [],
   "source": [
    "df = pd.read_csv('container_random_forest.csv',encoding = 'utf-8')"
   ]
  },
  {
   "cell_type": "code",
   "execution_count": 3,
   "id": "48348770",
   "metadata": {},
   "outputs": [],
   "source": [
    "df1 = pd.read_csv('expanded_positive_1wsamples.csv',encoding = 'utf-8')"
   ]
  },
  {
   "cell_type": "code",
   "execution_count": 7,
   "id": "6ac2629a",
   "metadata": {},
   "outputs": [],
   "source": [
    "df.drop(['Unnamed: 0.1', 'Unnamed: 0','Predict_Proba'],axis=1, inplace=True)"
   ]
  },
  {
   "cell_type": "code",
   "execution_count": 12,
   "id": "1b31634c",
   "metadata": {},
   "outputs": [],
   "source": [
    "df1['ISPOTIENTIAL']=1"
   ]
  },
  {
   "cell_type": "code",
   "execution_count": 14,
   "id": "27ea7307",
   "metadata": {},
   "outputs": [],
   "source": [
    "df1 = df1.rename(columns={'95':'FREIGHT_95306','RE':'FREIGHT_REAL','DIS':'DISCOUNT'})"
   ]
  },
  {
   "cell_type": "code",
   "execution_count": 16,
   "id": "3a8aef0d",
   "metadata": {},
   "outputs": [],
   "source": [
    "df1.columns = df1.columns.str.replace('_1', '')"
   ]
  },
  {
   "cell_type": "code",
   "execution_count": 17,
   "id": "ffd9bb13",
   "metadata": {},
   "outputs": [
    {
     "data": {
      "text/plain": [
       "Index(['CARGOWGT', 'ARRIVAL_INTERVAL', 'WAIT_INTERVAL', 'WORK_INTERVAL',\n",
       "       'LEAVE_INTERVAL', 'TRANS_INTERVAL', 'STACK_INTERVAL', 'CATEGORY',\n",
       "       'ISHIGH', 'ISREFRIGERATED', 'ISCOMPLETED', 'ISTANK', 'JFLC', 'TIME',\n",
       "       'COST', 'TCOST', 'FREIGHT_95306', 'FREIGHT_REAL', 'DISCOUNT', 'TJFLC',\n",
       "       'TTIME', 'TOIL', 'CNTRSIZCOD_20', 'CNTRSIZCOD_40', 'EFMARK_E',\n",
       "       'EFMARK_F', 'IMTRADEMARK_D', 'IMTRADEMARK_F', 'ISPOTIENTIAL'],\n",
       "      dtype='object')"
      ]
     },
     "execution_count": 17,
     "metadata": {},
     "output_type": "execute_result"
    }
   ],
   "source": [
    "df1.columns"
   ]
  },
  {
   "cell_type": "code",
   "execution_count": 11,
   "id": "16e729a8",
   "metadata": {},
   "outputs": [
    {
     "data": {
      "text/plain": [
       "Index(['CARGOWGT', 'ARRIVAL_INTERVAL', 'WAIT_INTERVAL', 'WORK_INTERVAL',\n",
       "       'LEAVE_INTERVAL', 'TRANS_INTERVAL', 'STACK_INTERVAL', 'CATEGORY',\n",
       "       'ISHIGH', 'ISREFRIGERATED', 'ISCOMPLETED', 'ISTANK', 'DATADATE',\n",
       "       'FZHZM', 'DZHZM', 'JFLC', 'ISPOTIENTIAL', 'TIME', 'COST', 'TCOST',\n",
       "       'FREIGHT_95306', 'FREIGHT_REAL', 'DISCOUNT', 'TJFLC', 'TTIME', 'TOIL',\n",
       "       'CNTRSIZCOD_20', 'CNTRSIZCOD_40', 'EFMARK_E', 'EFMARK_F',\n",
       "       'IMTRADEMARK_D', 'IMTRADEMARK_F'],\n",
       "      dtype='object')"
      ]
     },
     "execution_count": 11,
     "metadata": {},
     "output_type": "execute_result"
    }
   ],
   "source": [
    "df.columns"
   ]
  },
  {
   "cell_type": "code",
   "execution_count": 21,
   "id": "ad2993bb",
   "metadata": {},
   "outputs": [
    {
     "data": {
      "text/plain": [
       "CARGOWGT            100000\n",
       "ARRIVAL_INTERVAL    100000\n",
       "WAIT_INTERVAL       100000\n",
       "WORK_INTERVAL       100000\n",
       "LEAVE_INTERVAL      100000\n",
       "TRANS_INTERVAL      100000\n",
       "STACK_INTERVAL      100000\n",
       "CATEGORY            100000\n",
       "ISHIGH              100000\n",
       "ISREFRIGERATED      100000\n",
       "ISCOMPLETED         100000\n",
       "ISTANK              100000\n",
       "JFLC                100000\n",
       "TIME                100000\n",
       "COST                100000\n",
       "TCOST               100000\n",
       "FREIGHT_95306       100000\n",
       "FREIGHT_REAL        100000\n",
       "DISCOUNT            100000\n",
       "TJFLC               100000\n",
       "TTIME               100000\n",
       "TOIL                100000\n",
       "CNTRSIZCOD_20       100000\n",
       "CNTRSIZCOD_40       100000\n",
       "EFMARK_E            100000\n",
       "EFMARK_F            100000\n",
       "IMTRADEMARK_D       100000\n",
       "IMTRADEMARK_F       100000\n",
       "ISPOTIENTIAL        100000\n",
       "dtype: int64"
      ]
     },
     "execution_count": 21,
     "metadata": {},
     "output_type": "execute_result"
    }
   ],
   "source": [
    "df1.count()"
   ]
  },
  {
   "cell_type": "code",
   "execution_count": 18,
   "id": "5cd68294",
   "metadata": {},
   "outputs": [
    {
     "data": {
      "text/plain": [
       "2022/12/1    4028\n",
       "2022/10/1    3894\n",
       "2022/4/1     3425\n",
       "2022/11/1    3420\n",
       "2022/3/1     3271\n",
       "2022/6/1     3253\n",
       "2022/5/1     3237\n",
       "2022/2/1     3236\n",
       "2022/1/1     3132\n",
       "2023/5/1     1442\n",
       "2023/2/1     1077\n",
       "2023/4/1      981\n",
       "2023/6/1      926\n",
       "2023/3/1      852\n",
       "2022/8/1      672\n",
       "2023/1/1      660\n",
       "2022/9/1      653\n",
       "2022/7/1      579\n",
       "2023/7/1      546\n",
       "Name: DATADATE, dtype: int64"
      ]
     },
     "execution_count": 18,
     "metadata": {},
     "output_type": "execute_result"
    }
   ],
   "source": [
    "df[df.ISPOTIENTIAL==-1]"
   ]
  },
  {
   "cell_type": "code",
   "execution_count": 19,
   "id": "6725f9f9",
   "metadata": {},
   "outputs": [],
   "source": [
    "result = pd.concat([df, df1])"
   ]
  },
  {
   "cell_type": "code",
   "execution_count": 20,
   "id": "f08a180e",
   "metadata": {},
   "outputs": [
    {
     "data": {
      "text/plain": [
       "CARGOWGT            156460\n",
       "ARRIVAL_INTERVAL    156460\n",
       "WAIT_INTERVAL       156460\n",
       "WORK_INTERVAL       156460\n",
       "LEAVE_INTERVAL      156460\n",
       "TRANS_INTERVAL      156460\n",
       "STACK_INTERVAL      156460\n",
       "CATEGORY            156460\n",
       "ISHIGH              156460\n",
       "ISREFRIGERATED      156460\n",
       "ISCOMPLETED         156460\n",
       "ISTANK              156460\n",
       "DATADATE             56460\n",
       "FZHZM                56460\n",
       "DZHZM                56460\n",
       "JFLC                156460\n",
       "ISPOTIENTIAL        156460\n",
       "TIME                156460\n",
       "COST                156460\n",
       "TCOST               156460\n",
       "FREIGHT_95306       156460\n",
       "FREIGHT_REAL        156460\n",
       "DISCOUNT            156460\n",
       "TJFLC               156460\n",
       "TTIME               156460\n",
       "TOIL                156460\n",
       "CNTRSIZCOD_20       156460\n",
       "CNTRSIZCOD_40       156460\n",
       "EFMARK_E            156460\n",
       "EFMARK_F            156460\n",
       "IMTRADEMARK_D       156460\n",
       "IMTRADEMARK_F       156460\n",
       "dtype: int64"
      ]
     },
     "execution_count": 20,
     "metadata": {},
     "output_type": "execute_result"
    }
   ],
   "source": [
    "result.count()"
   ]
  },
  {
   "cell_type": "code",
   "execution_count": 31,
   "id": "479746ec",
   "metadata": {},
   "outputs": [
    {
     "data": {
      "text/plain": [
       "2022/12/1    5944\n",
       "2022/11/1    5282\n",
       "2022/10/1    4946\n",
       "2023/5/1     4147\n",
       "2022/6/1     3502\n",
       "2022/4/1     3425\n",
       "2022/3/1     3271\n",
       "2022/5/1     3237\n",
       "2022/2/1     3236\n",
       "2022/1/1     3132\n",
       "2023/6/1     2969\n",
       "2023/4/1     2880\n",
       "2023/2/1     2751\n",
       "2023/3/1     2409\n",
       "2023/1/1     1581\n",
       "2023/7/1     1267\n",
       "2022/9/1      900\n",
       "2022/7/1      813\n",
       "2022/8/1      768\n",
       "Name: DATADATE, dtype: int64"
      ]
     },
     "execution_count": 31,
     "metadata": {},
     "output_type": "execute_result"
    }
   ],
   "source": [
    "df.DATADATE.value_counts()"
   ]
  },
  {
   "cell_type": "code",
   "execution_count": 20,
   "id": "618b9996",
   "metadata": {},
   "outputs": [],
   "source": [
    "COLUMNS_SET1 = ['CARGOWGT', 'ARRIVAL_INTERVAL', 'WAIT_INTERVAL', 'WORK_INTERVAL', 'LEAVE_INTERVAL',\n",
    "                'TRANS_INTERVAL', 'STACK_INTERVAL', 'ISHIGH',\n",
    "                'ISREFRIGERATED', 'ISCOMPLETED', 'ISTANK', 'TJFLC', 'TTIME', 'TOIL', 'TCOST', 'CNTRSIZCOD_20.0',\n",
    "                'CNTRSIZCOD_40.0', 'CNTRSIZCOD_45.0', 'EFMARK_E', 'EFMARK_F', 'IMTRADEMARK_D',\n",
    "                'IMTRADEMARK_F'] "
   ]
  },
  {
   "cell_type": "code",
   "execution_count": null,
   "id": "ac2ff2e3",
   "metadata": {},
   "outputs": [],
   "source": []
  }
 ],
 "metadata": {
  "kernelspec": {
   "display_name": "Python 3 (ipykernel)",
   "language": "python",
   "name": "python3"
  },
  "language_info": {
   "codemirror_mode": {
    "name": "ipython",
    "version": 3
   },
   "file_extension": ".py",
   "mimetype": "text/x-python",
   "name": "python",
   "nbconvert_exporter": "python",
   "pygments_lexer": "ipython3",
   "version": "3.9.13"
  }
 },
 "nbformat": 4,
 "nbformat_minor": 5
}
